{
 "cells": [
  {
   "cell_type": "markdown",
   "metadata": {
    "id": "4T5dCtwYXFS0"
   },
   "source": [
    "# **MÓDULO 25 - Operações Básicas SQL**"
   ]
  },
  {
   "cell_type": "markdown",
   "metadata": {
    "id": "tGub_MhcXTfu"
   },
   "source": [
    "Para nossa atividade inicial de SQL trabalharemos com uma base de vendas.\n",
    "Abaixo temos o ambiente de preparo para trabalharmos com o SQL lite."
   ]
  },
  {
   "cell_type": "code",
   "execution_count": null,
   "metadata": {
    "id": "eQtWi0CfXCPn"
   },
   "outputs": [],
   "source": [
    "import sqlite3 #Importando a biblioteca necessária\n",
    "import pandas as pd"
   ]
  },
  {
   "cell_type": "code",
   "execution_count": null,
   "metadata": {
    "id": "yKsW2EEpXQTK"
   },
   "outputs": [],
   "source": [
    "df_vendas = pd.read_csv(\"TB_VENDAS_TAREFA.csv\", delimiter=';')"
   ]
  },
  {
   "cell_type": "code",
   "execution_count": null,
   "metadata": {
    "colab": {
     "base_uri": "https://localhost:8080/"
    },
    "id": "vbdvMKZgXtT5",
    "outputId": "0c4bde29-c5a5-4920-fc40-e71dfa4e4a02"
   },
   "outputs": [
    {
     "data": {
      "text/plain": [
       "24"
      ]
     },
     "execution_count": 3,
     "metadata": {},
     "output_type": "execute_result"
    }
   ],
   "source": [
    "conn = sqlite3.connect(':memory:')\n",
    "df_vendas.to_sql('tb_vendas', conn, index=False, if_exists='replace')"
   ]
  },
  {
   "cell_type": "code",
   "execution_count": null,
   "metadata": {
    "id": "Z3-elg3aXuiM"
   },
   "outputs": [],
   "source": [
    "def run_query(query):\n",
    "    return pd.read_sql_query(query, conn)"
   ]
  },
  {
   "cell_type": "markdown",
   "metadata": {
    "id": "Z_EFXuNLXz7m"
   },
   "source": [
    "# 1) Faça uma consulta que retorne os nomes dos produtos distintos que temos na base de venda.\n"
   ]
  },
  {
   "cell_type": "markdown",
   "metadata": {
    "id": "iFVBQMs0yFVG"
   },
   "source": [
    "Interpretação\n",
    "\n",
    "Colunas: Produto\n",
    "\n",
    "Filtros: Não\n",
    "\n",
    "Agrupamento: Não\n",
    "\n",
    "Ordenação: Não\n",
    "\n",
    "Distintos: Sim\n",
    "\n",
    "Origem: tb_vendas\n",
    "\n",
    "Limite: Não"
   ]
  },
  {
   "cell_type": "code",
   "execution_count": 10,
   "metadata": {
    "colab": {
     "base_uri": "https://localhost:8080/"
    },
    "id": "RXZK6kTcZ4BR",
    "outputId": "b4bfb437-3bcd-4608-d127-1fd0984f681c"
   },
   "outputs": [
    {
     "name": "stdout",
     "output_type": "stream",
     "text": [
      "    PRODUTO\n",
      "0  CAMISETA\n",
      "1     CALCA\n",
      "2   BERMUDA\n",
      "3   VESTIDO\n",
      "4      MEIA\n"
     ]
    }
   ],
   "source": [
    "query = \"\"\"\n",
    "SELECT DISTINCT (PRODUTO)\n",
    "FROM tb_vendas\n",
    "\"\"\"\n",
    "result_df = run_query(query)\n",
    "print(result_df)"
   ]
  },
  {
   "cell_type": "markdown",
   "metadata": {
    "id": "i0m1rdHk1kHc"
   },
   "source": [
    "# 2) Faça uma consulta que retorne a contagem dos clientes distintos que temos na nossa base, não esqueça de renomear sua coluna.\n",
    "\n",
    "Dica: Você pode usar o distinct dentro do count()"
   ]
  },
  {
   "cell_type": "markdown",
   "metadata": {
    "id": "yjYcrZ_ZyOY6"
   },
   "source": [
    "Interpretação\n",
    "\n",
    "Colunas: Clientes\n",
    "\n",
    "Filtros: Não\n",
    "\n",
    "Agrupamento: Não\n",
    "\n",
    "Ordenação: Não\n",
    "\n",
    "Distintos: Sim\n",
    "\n",
    "Origem: tb_vendas\n",
    "\n",
    "Limite: Não"
   ]
  },
  {
   "cell_type": "code",
   "execution_count": 12,
   "metadata": {
    "colab": {
     "base_uri": "https://localhost:8080/"
    },
    "id": "uDGHdqIwZ72P",
    "outputId": "0074acd7-25c5-4adb-cc52-4230fcf408d5"
   },
   "outputs": [
    {
     "name": "stdout",
     "output_type": "stream",
     "text": [
      "   CONTAGEM_CLIENTES\n",
      "0                 22\n"
     ]
    }
   ],
   "source": [
    "query = \"\"\"\n",
    "SELECT\n",
    "COUNT(DISTINCT ID_CLIENTE) AS CONTAGEM_CLIENTES\n",
    "FROM tb_vendas\n",
    "\"\"\"\n",
    "result_df = run_query(query)\n",
    "print(result_df)"
   ]
  },
  {
   "cell_type": "markdown",
   "metadata": {
    "id": "OvDezkJ516jd"
   },
   "source": [
    "# 3) Faça uma consulta que retorne uma coluna com os produtos distintos e o valor_unid de cada produto. Porém apenas para produtos onde o valor_unid é maior ou igual a 50 reais."
   ]
  },
  {
   "cell_type": "markdown",
   "metadata": {
    "id": "dl-2fDHUzX9K"
   },
   "source": [
    "Interpretação\n",
    "\n",
    "Colunas: Produtos e Valor_Unid\n",
    "\n",
    "Filtros: Sim, Valor_unid >= 50\n",
    "\n",
    "Agrupamento: Não\n",
    "\n",
    "Ordenação: Não\n",
    "\n",
    "Distintos: Sim\n",
    "\n",
    "Origem: tb_vendas\n",
    "\n",
    "Limite: Não"
   ]
  },
  {
   "cell_type": "code",
   "execution_count": 17,
   "metadata": {
    "colab": {
     "base_uri": "https://localhost:8080/"
    },
    "id": "_Feprb8JZ9Cg",
    "outputId": "e0655452-0513-48af-812e-d698166b64ae"
   },
   "outputs": [
    {
     "name": "stdout",
     "output_type": "stream",
     "text": [
      "   PRODUTO VALOR_UNID\n",
      "0    CALCA       89,9\n",
      "1  BERMUDA       79,5\n"
     ]
    }
   ],
   "source": [
    "query = \"\"\"\n",
    "SELECT\n",
    "DISTINCT (PRODUTO), VALOR_UNID\n",
    "FROM tb_vendas\n",
    "WHERE VALOR_UNID >= 50\n",
    "\"\"\"\n",
    "result_df = run_query(query)\n",
    "print(result_df)"
   ]
  },
  {
   "cell_type": "markdown",
   "metadata": {
    "id": "jcxg6MuX2c61"
   },
   "source": [
    "# [DESAFIO] 4) Faça uma consulta que retorne o ID das compras e o valor total gasto nessa compra (Valor_unidade X Unidades) das 5 compras com mais valor total gasto."
   ]
  },
  {
   "cell_type": "markdown",
   "metadata": {
    "id": "UXvCtLHq1Cbw"
   },
   "source": [
    "Interpretação\n",
    "\n",
    "Colunas: Id_Compras e Valor_Total (novo)\n",
    "\n",
    "Filtros: Não\n",
    "\n",
    "Agrupamento: sim, ID_compras\n",
    "\n",
    "Ordenação: Sim, 5 maiores\n",
    "\n",
    "Distintos: Não\n",
    "\n",
    "Origem: tb_vendas\n",
    "\n",
    "Limite: Sim, 5"
   ]
  },
  {
   "cell_type": "code",
   "execution_count": 22,
   "metadata": {
    "colab": {
     "base_uri": "https://localhost:8080/"
    },
    "id": "rtmlv-MyZ99R",
    "outputId": "93075a96-96ff-4774-eaa9-7a588e621787"
   },
   "outputs": [
    {
     "name": "stdout",
     "output_type": "stream",
     "text": [
      "   ID_COMPRA  VALOR_TOTAL\n",
      "0       1267          204\n",
      "1       1262          178\n",
      "2       1257          178\n",
      "3       1255          178\n",
      "4       1253          178\n"
     ]
    }
   ],
   "source": [
    "query = \"\"\"\n",
    "SELECT\n",
    "ID_COMPRA,\n",
    "SUM(VALOR_UNID * UNIDADES) AS VALOR_TOTAL\n",
    "FROM tb_vendas\n",
    "GROUP BY ID_COMPRA\n",
    "ORDER BY VALOR_TOTAL DESC\n",
    "LIMIT 5\n",
    "\"\"\"\n",
    "result_df = run_query(query)\n",
    "print(result_df)"
   ]
  },
  {
   "cell_type": "markdown",
   "metadata": {
    "id": "NJXkUmwH3EkG"
   },
   "source": [
    "# 5) Faça uma consulta que retorne os produtos e a média do preço da unidade dos produtos, ordenando do maior para o menor."
   ]
  },
  {
   "cell_type": "markdown",
   "metadata": {
    "id": "FzmJ3GM_5QWW"
   },
   "source": [
    "Interpretação\n",
    "\n",
    "Colunas: Produtos e Mèdia_Preço (novo)\n",
    "\n",
    "Filtros: Não\n",
    "\n",
    "Agrupamento: sIM, PRODUTOS\n",
    "\n",
    "Ordenação: Sim, DESC\n",
    "\n",
    "Distintos: Não\n",
    "\n",
    "Origem: tb_vendas\n",
    "\n",
    "Limite: Não"
   ]
  },
  {
   "cell_type": "code",
   "execution_count": 23,
   "metadata": {
    "colab": {
     "base_uri": "https://localhost:8080/"
    },
    "id": "el35t_f8Z_-j",
    "outputId": "fca1c3d8-b071-43e7-e811-11fac9c09874"
   },
   "outputs": [
    {
     "name": "stdout",
     "output_type": "stream",
     "text": [
      "    PRODUTO  MÉDIA_UNID\n",
      "0   VESTIDO       102.0\n",
      "1     CALCA        89.0\n",
      "2   BERMUDA        79.0\n",
      "3  CAMISETA        34.0\n",
      "4      MEIA        25.0\n"
     ]
    }
   ],
   "source": [
    "query = \"\"\"\n",
    "SELECT\n",
    "PRODUTO,\n",
    "AVG(VALOR_UNID) AS MÉDIA_UNID\n",
    "FROM tb_vendas\n",
    "GROUP BY PRODUTO\n",
    "ORDER BY MÉDIA_UNID DESC\n",
    "\"\"\"\n",
    "result_df = run_query(query)\n",
    "print(result_df)"
   ]
  },
  {
   "cell_type": "markdown",
   "metadata": {
    "id": "KR1f3qbB3s8D"
   },
   "source": [
    "# 6) Faça uma consulta que retorne o id dos 3 clientes da base de vendas que mais relalizaram compras e a quantidade de compras realizadas."
   ]
  },
  {
   "cell_type": "markdown",
   "metadata": {
    "id": "nDWDq8Ga559i"
   },
   "source": [
    "Interpretação\n",
    "\n",
    "Colunas: id_clientes e Qtd_compras (Novo)\n",
    "\n",
    "Filtros: Não\n",
    "\n",
    "Agrupamento: Sim, clientes\n",
    "\n",
    "Ordenação: sim\n",
    "\n",
    "Distintos: Não\n",
    "\n",
    "Origem: tb_vendas\n",
    "\n",
    "Limite: Sim, 3"
   ]
  },
  {
   "cell_type": "code",
   "execution_count": 28,
   "metadata": {
    "colab": {
     "base_uri": "https://localhost:8080/"
    },
    "id": "ZLZ8mkXjaA-f",
    "outputId": "b254779c-0162-4566-cc38-8a6ec7f259d5"
   },
   "outputs": [
    {
     "name": "stdout",
     "output_type": "stream",
     "text": [
      "   ID_CLIENTE  QTD_COMPRAS\n",
      "0        9425            2\n",
      "1        9081            2\n",
      "2        9801            1\n"
     ]
    }
   ],
   "source": [
    "query = \"\"\"\n",
    "SELECT\n",
    "ID_CLIENTE,\n",
    "COUNT(ID_CLIENTE) AS QTD_COMPRAS\n",
    "FROM tb_vendas\n",
    "GROUP BY ID_CLIENTE\n",
    "ORDER BY QTD_COMPRAS DESC\n",
    "LIMIT 3\n",
    "\"\"\"\n",
    "result_df = run_query(query)\n",
    "print(result_df)"
   ]
  }
 ],
 "metadata": {
  "colab": {
   "provenance": []
  },
  "kernelspec": {
   "display_name": "Python [conda env:base] *",
   "language": "python",
   "name": "conda-base-py"
  },
  "language_info": {
   "codemirror_mode": {
    "name": "ipython",
    "version": 3
   },
   "file_extension": ".py",
   "mimetype": "text/x-python",
   "name": "python",
   "nbconvert_exporter": "python",
   "pygments_lexer": "ipython3",
   "version": "3.12.7"
  }
 },
 "nbformat": 4,
 "nbformat_minor": 4
}
